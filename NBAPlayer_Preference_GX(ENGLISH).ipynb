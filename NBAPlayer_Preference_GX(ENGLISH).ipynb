{
 "cells": [
  {
   "cell_type": "markdown",
   "id": "84976272",
   "metadata": {},
   "source": [
    "# INTRODUCTION"
   ]
  },
  {
   "cell_type": "markdown",
   "id": "fd51d3af",
   "metadata": {},
   "source": [
    "Name  : Ma'ruf Habibie Siregar\n",
    "\n",
    "This program is designed to automate the process of **loading**, **transforming**, and **pushing** data from **PostgreSQL** to **Elasticsearch**.  \n",
    "The dataset used is NBA player statistics up to the **2021/2022 season**."
   ]
  },
  {
   "cell_type": "markdown",
   "id": "030ed5db",
   "metadata": {},
   "source": [
    "# GREAT EXPECTATIONS"
   ]
  },
  {
   "cell_type": "markdown",
   "id": "6adbe276",
   "metadata": {},
   "source": [
    "## 1. Data Loading"
   ]
  },
  {
   "cell_type": "code",
   "execution_count": 1,
   "id": "17cca4f4",
   "metadata": {},
   "outputs": [
    {
     "name": "stderr",
     "output_type": "stream",
     "text": [
      "/opt/miniconda3/envs/h8_env/lib/python3.9/site-packages/google/protobuf/runtime_version.py:98: UserWarning: Protobuf gencode version 5.28.3 is exactly one major version older than the runtime version 6.31.1 at spark/connect/base.proto. Please update the gencode to avoid compatibility violations in the next runtime release.\n",
      "  warnings.warn(\n",
      "/opt/miniconda3/envs/h8_env/lib/python3.9/site-packages/google/protobuf/runtime_version.py:98: UserWarning: Protobuf gencode version 5.28.3 is exactly one major version older than the runtime version 6.31.1 at spark/connect/commands.proto. Please update the gencode to avoid compatibility violations in the next runtime release.\n",
      "  warnings.warn(\n",
      "/opt/miniconda3/envs/h8_env/lib/python3.9/site-packages/google/protobuf/runtime_version.py:98: UserWarning: Protobuf gencode version 5.28.3 is exactly one major version older than the runtime version 6.31.1 at spark/connect/common.proto. Please update the gencode to avoid compatibility violations in the next runtime release.\n",
      "  warnings.warn(\n",
      "/opt/miniconda3/envs/h8_env/lib/python3.9/site-packages/google/protobuf/runtime_version.py:98: UserWarning: Protobuf gencode version 5.28.3 is exactly one major version older than the runtime version 6.31.1 at spark/connect/expressions.proto. Please update the gencode to avoid compatibility violations in the next runtime release.\n",
      "  warnings.warn(\n",
      "/opt/miniconda3/envs/h8_env/lib/python3.9/site-packages/google/protobuf/runtime_version.py:98: UserWarning: Protobuf gencode version 5.28.3 is exactly one major version older than the runtime version 6.31.1 at spark/connect/types.proto. Please update the gencode to avoid compatibility violations in the next runtime release.\n",
      "  warnings.warn(\n",
      "/opt/miniconda3/envs/h8_env/lib/python3.9/site-packages/google/protobuf/runtime_version.py:98: UserWarning: Protobuf gencode version 5.28.3 is exactly one major version older than the runtime version 6.31.1 at spark/connect/relations.proto. Please update the gencode to avoid compatibility violations in the next runtime release.\n",
      "  warnings.warn(\n",
      "/opt/miniconda3/envs/h8_env/lib/python3.9/site-packages/google/protobuf/runtime_version.py:98: UserWarning: Protobuf gencode version 5.28.3 is exactly one major version older than the runtime version 6.31.1 at spark/connect/catalog.proto. Please update the gencode to avoid compatibility violations in the next runtime release.\n",
      "  warnings.warn(\n",
      "/opt/miniconda3/envs/h8_env/lib/python3.9/site-packages/google/protobuf/runtime_version.py:98: UserWarning: Protobuf gencode version 5.28.3 is exactly one major version older than the runtime version 6.31.1 at spark/connect/ml_common.proto. Please update the gencode to avoid compatibility violations in the next runtime release.\n",
      "  warnings.warn(\n",
      "/opt/miniconda3/envs/h8_env/lib/python3.9/site-packages/google/protobuf/runtime_version.py:98: UserWarning: Protobuf gencode version 5.28.3 is exactly one major version older than the runtime version 6.31.1 at spark/connect/ml.proto. Please update the gencode to avoid compatibility violations in the next runtime release.\n",
      "  warnings.warn(\n"
     ]
    }
   ],
   "source": [
    "# Import Library\n",
    "import pandas as pd\n",
    "import great_expectations as ge\n",
    "from great_expectations.data_context import FileDataContext\n",
    "from great_expectations.core.batch import RuntimeBatchRequest\n",
    "from great_expectations.checkpoint import SimpleCheckpoint"
   ]
  },
  {
   "cell_type": "code",
   "execution_count": 2,
   "id": "efadbb68",
   "metadata": {},
   "outputs": [],
   "source": [
    "# Read the cleaned CSV file\n",
    "df = pd.read_csv(\"NBAPlayer_Preference_data_clean.csv\")\n",
    "\n",
    "# Convert the pandas dataframe to a Great Expectations dataset\n",
    "ge_df = ge.from_pandas(df)"
   ]
  },
  {
   "cell_type": "code",
   "execution_count": 3,
   "id": "cff2c46a",
   "metadata": {},
   "outputs": [
    {
     "data": {
      "text/html": [
       "<div>\n",
       "<style scoped>\n",
       "    .dataframe tbody tr th:only-of-type {\n",
       "        vertical-align: middle;\n",
       "    }\n",
       "\n",
       "    .dataframe tbody tr th {\n",
       "        vertical-align: top;\n",
       "    }\n",
       "\n",
       "    .dataframe thead th {\n",
       "        text-align: right;\n",
       "    }\n",
       "</style>\n",
       "<table border=\"1\" class=\"dataframe\">\n",
       "  <thead>\n",
       "    <tr style=\"text-align: right;\">\n",
       "      <th></th>\n",
       "      <th>rk</th>\n",
       "      <th>player</th>\n",
       "      <th>pos</th>\n",
       "      <th>age</th>\n",
       "      <th>tm</th>\n",
       "      <th>g</th>\n",
       "      <th>gs</th>\n",
       "      <th>mp</th>\n",
       "      <th>fg</th>\n",
       "      <th>fga</th>\n",
       "      <th>fg%</th>\n",
       "      <th>3p</th>\n",
       "      <th>3pa</th>\n",
       "      <th>3p%</th>\n",
       "      <th>2p</th>\n",
       "      <th>2pa</th>\n",
       "      <th>2p%</th>\n",
       "      <th>efg%</th>\n",
       "      <th>ft</th>\n",
       "      <th>fta</th>\n",
       "      <th>ft%</th>\n",
       "      <th>orb</th>\n",
       "      <th>drb</th>\n",
       "      <th>trb</th>\n",
       "      <th>ast</th>\n",
       "      <th>stl</th>\n",
       "      <th>blk</th>\n",
       "      <th>tov</th>\n",
       "      <th>pf</th>\n",
       "      <th>pts</th>\n",
       "      <th>year</th>\n",
       "      <th>year_start</th>\n",
       "      <th>year_end</th>\n",
       "      <th>main_pose</th>\n",
       "      <th>ID</th>\n",
       "    </tr>\n",
       "  </thead>\n",
       "  <tbody>\n",
       "    <tr>\n",
       "      <th>0</th>\n",
       "      <td>1</td>\n",
       "      <td>Mahmoud Abdul-Rauf</td>\n",
       "      <td>PG</td>\n",
       "      <td>28</td>\n",
       "      <td>SAC</td>\n",
       "      <td>31</td>\n",
       "      <td>0</td>\n",
       "      <td>17.1</td>\n",
       "      <td>3.3</td>\n",
       "      <td>8.8</td>\n",
       "      <td>0.377</td>\n",
       "      <td>0.2</td>\n",
       "      <td>1.0</td>\n",
       "      <td>0.161</td>\n",
       "      <td>3.2</td>\n",
       "      <td>7.8</td>\n",
       "      <td>0.405</td>\n",
       "      <td>0.386</td>\n",
       "      <td>0.5</td>\n",
       "      <td>0.5</td>\n",
       "      <td>1.000</td>\n",
       "      <td>0.2</td>\n",
       "      <td>1.0</td>\n",
       "      <td>1.2</td>\n",
       "      <td>1.9</td>\n",
       "      <td>0.5</td>\n",
       "      <td>0.0</td>\n",
       "      <td>0.6</td>\n",
       "      <td>1.0</td>\n",
       "      <td>7.3</td>\n",
       "      <td>1997-1998</td>\n",
       "      <td>1997</td>\n",
       "      <td>1998</td>\n",
       "      <td>PG</td>\n",
       "      <td>Mahmoud Abdul-Rauf_SAC_1997-1998</td>\n",
       "    </tr>\n",
       "    <tr>\n",
       "      <th>1</th>\n",
       "      <td>2</td>\n",
       "      <td>Tariq Abdul-Wahad</td>\n",
       "      <td>SG</td>\n",
       "      <td>23</td>\n",
       "      <td>SAC</td>\n",
       "      <td>59</td>\n",
       "      <td>16</td>\n",
       "      <td>16.3</td>\n",
       "      <td>2.4</td>\n",
       "      <td>6.1</td>\n",
       "      <td>0.403</td>\n",
       "      <td>0.1</td>\n",
       "      <td>0.3</td>\n",
       "      <td>0.211</td>\n",
       "      <td>2.4</td>\n",
       "      <td>5.7</td>\n",
       "      <td>0.414</td>\n",
       "      <td>0.409</td>\n",
       "      <td>1.4</td>\n",
       "      <td>2.1</td>\n",
       "      <td>0.672</td>\n",
       "      <td>0.7</td>\n",
       "      <td>1.2</td>\n",
       "      <td>2.0</td>\n",
       "      <td>0.9</td>\n",
       "      <td>0.6</td>\n",
       "      <td>0.2</td>\n",
       "      <td>1.1</td>\n",
       "      <td>1.4</td>\n",
       "      <td>6.4</td>\n",
       "      <td>1997-1998</td>\n",
       "      <td>1997</td>\n",
       "      <td>1998</td>\n",
       "      <td>SG</td>\n",
       "      <td>Tariq Abdul-Wahad_SAC_1997-1998</td>\n",
       "    </tr>\n",
       "    <tr>\n",
       "      <th>2</th>\n",
       "      <td>3</td>\n",
       "      <td>Shareef Abdur-Rahim</td>\n",
       "      <td>SF</td>\n",
       "      <td>21</td>\n",
       "      <td>VAN</td>\n",
       "      <td>82</td>\n",
       "      <td>82</td>\n",
       "      <td>36.0</td>\n",
       "      <td>8.0</td>\n",
       "      <td>16.4</td>\n",
       "      <td>0.485</td>\n",
       "      <td>0.3</td>\n",
       "      <td>0.6</td>\n",
       "      <td>0.412</td>\n",
       "      <td>7.7</td>\n",
       "      <td>15.8</td>\n",
       "      <td>0.488</td>\n",
       "      <td>0.493</td>\n",
       "      <td>6.1</td>\n",
       "      <td>7.8</td>\n",
       "      <td>0.784</td>\n",
       "      <td>2.8</td>\n",
       "      <td>4.3</td>\n",
       "      <td>7.1</td>\n",
       "      <td>2.6</td>\n",
       "      <td>1.1</td>\n",
       "      <td>0.9</td>\n",
       "      <td>3.1</td>\n",
       "      <td>2.5</td>\n",
       "      <td>22.3</td>\n",
       "      <td>1997-1998</td>\n",
       "      <td>1997</td>\n",
       "      <td>1998</td>\n",
       "      <td>SF</td>\n",
       "      <td>Shareef Abdur-Rahim_VAN_1997-1998</td>\n",
       "    </tr>\n",
       "    <tr>\n",
       "      <th>3</th>\n",
       "      <td>4</td>\n",
       "      <td>Cory Alexander</td>\n",
       "      <td>PG</td>\n",
       "      <td>24</td>\n",
       "      <td>TOT</td>\n",
       "      <td>60</td>\n",
       "      <td>22</td>\n",
       "      <td>21.6</td>\n",
       "      <td>2.9</td>\n",
       "      <td>6.7</td>\n",
       "      <td>0.428</td>\n",
       "      <td>1.1</td>\n",
       "      <td>2.9</td>\n",
       "      <td>0.375</td>\n",
       "      <td>1.8</td>\n",
       "      <td>3.7</td>\n",
       "      <td>0.469</td>\n",
       "      <td>0.510</td>\n",
       "      <td>1.3</td>\n",
       "      <td>1.7</td>\n",
       "      <td>0.784</td>\n",
       "      <td>0.3</td>\n",
       "      <td>2.2</td>\n",
       "      <td>2.4</td>\n",
       "      <td>3.5</td>\n",
       "      <td>1.2</td>\n",
       "      <td>0.2</td>\n",
       "      <td>1.9</td>\n",
       "      <td>1.6</td>\n",
       "      <td>8.1</td>\n",
       "      <td>1997-1998</td>\n",
       "      <td>1997</td>\n",
       "      <td>1998</td>\n",
       "      <td>PG</td>\n",
       "      <td>Cory Alexander_TOT_1997-1998</td>\n",
       "    </tr>\n",
       "    <tr>\n",
       "      <th>4</th>\n",
       "      <td>4</td>\n",
       "      <td>Cory Alexander</td>\n",
       "      <td>PG</td>\n",
       "      <td>24</td>\n",
       "      <td>SAS</td>\n",
       "      <td>37</td>\n",
       "      <td>3</td>\n",
       "      <td>13.5</td>\n",
       "      <td>1.6</td>\n",
       "      <td>3.9</td>\n",
       "      <td>0.414</td>\n",
       "      <td>0.5</td>\n",
       "      <td>1.7</td>\n",
       "      <td>0.313</td>\n",
       "      <td>1.1</td>\n",
       "      <td>2.2</td>\n",
       "      <td>0.494</td>\n",
       "      <td>0.483</td>\n",
       "      <td>0.7</td>\n",
       "      <td>1.0</td>\n",
       "      <td>0.676</td>\n",
       "      <td>0.2</td>\n",
       "      <td>1.1</td>\n",
       "      <td>1.3</td>\n",
       "      <td>1.9</td>\n",
       "      <td>0.7</td>\n",
       "      <td>0.1</td>\n",
       "      <td>1.3</td>\n",
       "      <td>1.4</td>\n",
       "      <td>4.5</td>\n",
       "      <td>1997-1998</td>\n",
       "      <td>1997</td>\n",
       "      <td>1998</td>\n",
       "      <td>PG</td>\n",
       "      <td>Cory Alexander_SAS_1997-1998</td>\n",
       "    </tr>\n",
       "  </tbody>\n",
       "</table>\n",
       "</div>"
      ],
      "text/plain": [
       "   rk               player pos  age   tm   g  gs    mp   fg   fga    fg%   3p  \\\n",
       "0   1   Mahmoud Abdul-Rauf  PG   28  SAC  31   0  17.1  3.3   8.8  0.377  0.2   \n",
       "1   2    Tariq Abdul-Wahad  SG   23  SAC  59  16  16.3  2.4   6.1  0.403  0.1   \n",
       "2   3  Shareef Abdur-Rahim  SF   21  VAN  82  82  36.0  8.0  16.4  0.485  0.3   \n",
       "3   4       Cory Alexander  PG   24  TOT  60  22  21.6  2.9   6.7  0.428  1.1   \n",
       "4   4       Cory Alexander  PG   24  SAS  37   3  13.5  1.6   3.9  0.414  0.5   \n",
       "\n",
       "   3pa    3p%   2p   2pa    2p%   efg%   ft  fta    ft%  orb  drb  trb  ast  \\\n",
       "0  1.0  0.161  3.2   7.8  0.405  0.386  0.5  0.5  1.000  0.2  1.0  1.2  1.9   \n",
       "1  0.3  0.211  2.4   5.7  0.414  0.409  1.4  2.1  0.672  0.7  1.2  2.0  0.9   \n",
       "2  0.6  0.412  7.7  15.8  0.488  0.493  6.1  7.8  0.784  2.8  4.3  7.1  2.6   \n",
       "3  2.9  0.375  1.8   3.7  0.469  0.510  1.3  1.7  0.784  0.3  2.2  2.4  3.5   \n",
       "4  1.7  0.313  1.1   2.2  0.494  0.483  0.7  1.0  0.676  0.2  1.1  1.3  1.9   \n",
       "\n",
       "   stl  blk  tov   pf   pts       year  year_start  year_end main_pose  \\\n",
       "0  0.5  0.0  0.6  1.0   7.3  1997-1998        1997      1998        PG   \n",
       "1  0.6  0.2  1.1  1.4   6.4  1997-1998        1997      1998        SG   \n",
       "2  1.1  0.9  3.1  2.5  22.3  1997-1998        1997      1998        SF   \n",
       "3  1.2  0.2  1.9  1.6   8.1  1997-1998        1997      1998        PG   \n",
       "4  0.7  0.1  1.3  1.4   4.5  1997-1998        1997      1998        PG   \n",
       "\n",
       "                                  ID  \n",
       "0   Mahmoud Abdul-Rauf_SAC_1997-1998  \n",
       "1    Tariq Abdul-Wahad_SAC_1997-1998  \n",
       "2  Shareef Abdur-Rahim_VAN_1997-1998  \n",
       "3       Cory Alexander_TOT_1997-1998  \n",
       "4       Cory Alexander_SAS_1997-1998  "
      ]
     },
     "execution_count": 3,
     "metadata": {},
     "output_type": "execute_result"
    }
   ],
   "source": [
    "# View the contents of the table\n",
    "pd.set_option('display.max_columns', None)\n",
    "df.head()"
   ]
  },
  {
   "cell_type": "markdown",
   "id": "c87ee859",
   "metadata": {},
   "source": [
    "## 2. Instantiate Data Context"
   ]
  },
  {
   "cell_type": "code",
   "execution_count": 4,
   "id": "8976bd35",
   "metadata": {},
   "outputs": [],
   "source": [
    "# Create a data context\n",
    "context = FileDataContext.create(project_root_dir='./')"
   ]
  },
  {
   "cell_type": "markdown",
   "id": "87e2ecd0",
   "metadata": {},
   "source": [
    "## 3. Connect to DataSource"
   ]
  },
  {
   "cell_type": "code",
   "execution_count": 5,
   "id": "6f22b411",
   "metadata": {},
   "outputs": [],
   "source": [
    "# Give a name to a Datasource. This name must be unique between Datasources.\n",
    "datasource_name = 'nba_player_csv'\n",
    "datasource = context.sources.add_pandas(datasource_name)\n",
    "\n",
    "# Give a name to a data asset\n",
    "asset_name = 'nbaplayer'\n",
    "path_to_data = 'NBAPlayer_Preference_data_clean.csv'\n",
    "asset = datasource.add_csv_asset(asset_name, filepath_or_buffer=path_to_data)\n",
    "\n",
    "# Build batch request\n",
    "batch_request = asset.build_batch_request()"
   ]
  },
  {
   "cell_type": "markdown",
   "id": "08865277",
   "metadata": {},
   "source": [
    "## 4. Create an Expectation Suite"
   ]
  },
  {
   "cell_type": "code",
   "execution_count": 6,
   "id": "49cfb65e",
   "metadata": {},
   "outputs": [
    {
     "data": {
      "application/vnd.jupyter.widget-view+json": {
       "model_id": "141170e7a4fe46088d6912c14a30e466",
       "version_major": 2,
       "version_minor": 0
      },
      "text/plain": [
       "Calculating Metrics:   0%|          | 0/1 [00:00<?, ?it/s]"
      ]
     },
     "metadata": {},
     "output_type": "display_data"
    },
    {
     "data": {
      "text/html": [
       "<div>\n",
       "<style scoped>\n",
       "    .dataframe tbody tr th:only-of-type {\n",
       "        vertical-align: middle;\n",
       "    }\n",
       "\n",
       "    .dataframe tbody tr th {\n",
       "        vertical-align: top;\n",
       "    }\n",
       "\n",
       "    .dataframe thead th {\n",
       "        text-align: right;\n",
       "    }\n",
       "</style>\n",
       "<table border=\"1\" class=\"dataframe\">\n",
       "  <thead>\n",
       "    <tr style=\"text-align: right;\">\n",
       "      <th></th>\n",
       "      <th>rk</th>\n",
       "      <th>player</th>\n",
       "      <th>pos</th>\n",
       "      <th>age</th>\n",
       "      <th>tm</th>\n",
       "      <th>g</th>\n",
       "      <th>gs</th>\n",
       "      <th>mp</th>\n",
       "      <th>fg</th>\n",
       "      <th>fga</th>\n",
       "      <th>fg%</th>\n",
       "      <th>3p</th>\n",
       "      <th>3pa</th>\n",
       "      <th>3p%</th>\n",
       "      <th>2p</th>\n",
       "      <th>2pa</th>\n",
       "      <th>2p%</th>\n",
       "      <th>efg%</th>\n",
       "      <th>ft</th>\n",
       "      <th>fta</th>\n",
       "      <th>ft%</th>\n",
       "      <th>orb</th>\n",
       "      <th>drb</th>\n",
       "      <th>trb</th>\n",
       "      <th>ast</th>\n",
       "      <th>stl</th>\n",
       "      <th>blk</th>\n",
       "      <th>tov</th>\n",
       "      <th>pf</th>\n",
       "      <th>pts</th>\n",
       "      <th>year</th>\n",
       "      <th>year_start</th>\n",
       "      <th>year_end</th>\n",
       "      <th>main_pose</th>\n",
       "      <th>ID</th>\n",
       "    </tr>\n",
       "  </thead>\n",
       "  <tbody>\n",
       "    <tr>\n",
       "      <th>0</th>\n",
       "      <td>1</td>\n",
       "      <td>Mahmoud Abdul-Rauf</td>\n",
       "      <td>PG</td>\n",
       "      <td>28</td>\n",
       "      <td>SAC</td>\n",
       "      <td>31</td>\n",
       "      <td>0</td>\n",
       "      <td>17.1</td>\n",
       "      <td>3.3</td>\n",
       "      <td>8.8</td>\n",
       "      <td>0.377</td>\n",
       "      <td>0.2</td>\n",
       "      <td>1.0</td>\n",
       "      <td>0.161</td>\n",
       "      <td>3.2</td>\n",
       "      <td>7.8</td>\n",
       "      <td>0.405</td>\n",
       "      <td>0.386</td>\n",
       "      <td>0.5</td>\n",
       "      <td>0.5</td>\n",
       "      <td>1.000</td>\n",
       "      <td>0.2</td>\n",
       "      <td>1.0</td>\n",
       "      <td>1.2</td>\n",
       "      <td>1.9</td>\n",
       "      <td>0.5</td>\n",
       "      <td>0.0</td>\n",
       "      <td>0.6</td>\n",
       "      <td>1.0</td>\n",
       "      <td>7.3</td>\n",
       "      <td>1997-1998</td>\n",
       "      <td>1997</td>\n",
       "      <td>1998</td>\n",
       "      <td>PG</td>\n",
       "      <td>Mahmoud Abdul-Rauf_SAC_1997-1998</td>\n",
       "    </tr>\n",
       "    <tr>\n",
       "      <th>1</th>\n",
       "      <td>2</td>\n",
       "      <td>Tariq Abdul-Wahad</td>\n",
       "      <td>SG</td>\n",
       "      <td>23</td>\n",
       "      <td>SAC</td>\n",
       "      <td>59</td>\n",
       "      <td>16</td>\n",
       "      <td>16.3</td>\n",
       "      <td>2.4</td>\n",
       "      <td>6.1</td>\n",
       "      <td>0.403</td>\n",
       "      <td>0.1</td>\n",
       "      <td>0.3</td>\n",
       "      <td>0.211</td>\n",
       "      <td>2.4</td>\n",
       "      <td>5.7</td>\n",
       "      <td>0.414</td>\n",
       "      <td>0.409</td>\n",
       "      <td>1.4</td>\n",
       "      <td>2.1</td>\n",
       "      <td>0.672</td>\n",
       "      <td>0.7</td>\n",
       "      <td>1.2</td>\n",
       "      <td>2.0</td>\n",
       "      <td>0.9</td>\n",
       "      <td>0.6</td>\n",
       "      <td>0.2</td>\n",
       "      <td>1.1</td>\n",
       "      <td>1.4</td>\n",
       "      <td>6.4</td>\n",
       "      <td>1997-1998</td>\n",
       "      <td>1997</td>\n",
       "      <td>1998</td>\n",
       "      <td>SG</td>\n",
       "      <td>Tariq Abdul-Wahad_SAC_1997-1998</td>\n",
       "    </tr>\n",
       "    <tr>\n",
       "      <th>2</th>\n",
       "      <td>3</td>\n",
       "      <td>Shareef Abdur-Rahim</td>\n",
       "      <td>SF</td>\n",
       "      <td>21</td>\n",
       "      <td>VAN</td>\n",
       "      <td>82</td>\n",
       "      <td>82</td>\n",
       "      <td>36.0</td>\n",
       "      <td>8.0</td>\n",
       "      <td>16.4</td>\n",
       "      <td>0.485</td>\n",
       "      <td>0.3</td>\n",
       "      <td>0.6</td>\n",
       "      <td>0.412</td>\n",
       "      <td>7.7</td>\n",
       "      <td>15.8</td>\n",
       "      <td>0.488</td>\n",
       "      <td>0.493</td>\n",
       "      <td>6.1</td>\n",
       "      <td>7.8</td>\n",
       "      <td>0.784</td>\n",
       "      <td>2.8</td>\n",
       "      <td>4.3</td>\n",
       "      <td>7.1</td>\n",
       "      <td>2.6</td>\n",
       "      <td>1.1</td>\n",
       "      <td>0.9</td>\n",
       "      <td>3.1</td>\n",
       "      <td>2.5</td>\n",
       "      <td>22.3</td>\n",
       "      <td>1997-1998</td>\n",
       "      <td>1997</td>\n",
       "      <td>1998</td>\n",
       "      <td>SF</td>\n",
       "      <td>Shareef Abdur-Rahim_VAN_1997-1998</td>\n",
       "    </tr>\n",
       "    <tr>\n",
       "      <th>3</th>\n",
       "      <td>4</td>\n",
       "      <td>Cory Alexander</td>\n",
       "      <td>PG</td>\n",
       "      <td>24</td>\n",
       "      <td>TOT</td>\n",
       "      <td>60</td>\n",
       "      <td>22</td>\n",
       "      <td>21.6</td>\n",
       "      <td>2.9</td>\n",
       "      <td>6.7</td>\n",
       "      <td>0.428</td>\n",
       "      <td>1.1</td>\n",
       "      <td>2.9</td>\n",
       "      <td>0.375</td>\n",
       "      <td>1.8</td>\n",
       "      <td>3.7</td>\n",
       "      <td>0.469</td>\n",
       "      <td>0.510</td>\n",
       "      <td>1.3</td>\n",
       "      <td>1.7</td>\n",
       "      <td>0.784</td>\n",
       "      <td>0.3</td>\n",
       "      <td>2.2</td>\n",
       "      <td>2.4</td>\n",
       "      <td>3.5</td>\n",
       "      <td>1.2</td>\n",
       "      <td>0.2</td>\n",
       "      <td>1.9</td>\n",
       "      <td>1.6</td>\n",
       "      <td>8.1</td>\n",
       "      <td>1997-1998</td>\n",
       "      <td>1997</td>\n",
       "      <td>1998</td>\n",
       "      <td>PG</td>\n",
       "      <td>Cory Alexander_TOT_1997-1998</td>\n",
       "    </tr>\n",
       "    <tr>\n",
       "      <th>4</th>\n",
       "      <td>4</td>\n",
       "      <td>Cory Alexander</td>\n",
       "      <td>PG</td>\n",
       "      <td>24</td>\n",
       "      <td>SAS</td>\n",
       "      <td>37</td>\n",
       "      <td>3</td>\n",
       "      <td>13.5</td>\n",
       "      <td>1.6</td>\n",
       "      <td>3.9</td>\n",
       "      <td>0.414</td>\n",
       "      <td>0.5</td>\n",
       "      <td>1.7</td>\n",
       "      <td>0.313</td>\n",
       "      <td>1.1</td>\n",
       "      <td>2.2</td>\n",
       "      <td>0.494</td>\n",
       "      <td>0.483</td>\n",
       "      <td>0.7</td>\n",
       "      <td>1.0</td>\n",
       "      <td>0.676</td>\n",
       "      <td>0.2</td>\n",
       "      <td>1.1</td>\n",
       "      <td>1.3</td>\n",
       "      <td>1.9</td>\n",
       "      <td>0.7</td>\n",
       "      <td>0.1</td>\n",
       "      <td>1.3</td>\n",
       "      <td>1.4</td>\n",
       "      <td>4.5</td>\n",
       "      <td>1997-1998</td>\n",
       "      <td>1997</td>\n",
       "      <td>1998</td>\n",
       "      <td>PG</td>\n",
       "      <td>Cory Alexander_SAS_1997-1998</td>\n",
       "    </tr>\n",
       "  </tbody>\n",
       "</table>\n",
       "</div>"
      ],
      "text/plain": [
       "   rk               player pos  age   tm   g  gs    mp   fg   fga    fg%   3p  \\\n",
       "0   1   Mahmoud Abdul-Rauf  PG   28  SAC  31   0  17.1  3.3   8.8  0.377  0.2   \n",
       "1   2    Tariq Abdul-Wahad  SG   23  SAC  59  16  16.3  2.4   6.1  0.403  0.1   \n",
       "2   3  Shareef Abdur-Rahim  SF   21  VAN  82  82  36.0  8.0  16.4  0.485  0.3   \n",
       "3   4       Cory Alexander  PG   24  TOT  60  22  21.6  2.9   6.7  0.428  1.1   \n",
       "4   4       Cory Alexander  PG   24  SAS  37   3  13.5  1.6   3.9  0.414  0.5   \n",
       "\n",
       "   3pa    3p%   2p   2pa    2p%   efg%   ft  fta    ft%  orb  drb  trb  ast  \\\n",
       "0  1.0  0.161  3.2   7.8  0.405  0.386  0.5  0.5  1.000  0.2  1.0  1.2  1.9   \n",
       "1  0.3  0.211  2.4   5.7  0.414  0.409  1.4  2.1  0.672  0.7  1.2  2.0  0.9   \n",
       "2  0.6  0.412  7.7  15.8  0.488  0.493  6.1  7.8  0.784  2.8  4.3  7.1  2.6   \n",
       "3  2.9  0.375  1.8   3.7  0.469  0.510  1.3  1.7  0.784  0.3  2.2  2.4  3.5   \n",
       "4  1.7  0.313  1.1   2.2  0.494  0.483  0.7  1.0  0.676  0.2  1.1  1.3  1.9   \n",
       "\n",
       "   stl  blk  tov   pf   pts       year  year_start  year_end main_pose  \\\n",
       "0  0.5  0.0  0.6  1.0   7.3  1997-1998        1997      1998        PG   \n",
       "1  0.6  0.2  1.1  1.4   6.4  1997-1998        1997      1998        SG   \n",
       "2  1.1  0.9  3.1  2.5  22.3  1997-1998        1997      1998        SF   \n",
       "3  1.2  0.2  1.9  1.6   8.1  1997-1998        1997      1998        PG   \n",
       "4  0.7  0.1  1.3  1.4   4.5  1997-1998        1997      1998        PG   \n",
       "\n",
       "                                  ID  \n",
       "0   Mahmoud Abdul-Rauf_SAC_1997-1998  \n",
       "1    Tariq Abdul-Wahad_SAC_1997-1998  \n",
       "2  Shareef Abdur-Rahim_VAN_1997-1998  \n",
       "3       Cory Alexander_TOT_1997-1998  \n",
       "4       Cory Alexander_SAS_1997-1998  "
      ]
     },
     "execution_count": 6,
     "metadata": {},
     "output_type": "execute_result"
    }
   ],
   "source": [
    "# Creat an expectation suite\n",
    "expectation_suite_name = 'expectation_nba_player_pref'\n",
    "context.add_or_update_expectation_suite(expectation_suite_name)\n",
    "\n",
    "# Create a validator using above expectation suite\n",
    "validator = context.get_validator(\n",
    "    batch_request = batch_request,\n",
    "    expectation_suite_name = expectation_suite_name\n",
    ")\n",
    "# Check the validator\n",
    "validator.head()"
   ]
  },
  {
   "cell_type": "markdown",
   "id": "79d1bff3",
   "metadata": {},
   "source": [
    "### Great Expectation 1\n",
    "#### Player, team, and playing year must be **unique** (to be Unique)"
   ]
  },
  {
   "cell_type": "markdown",
   "id": "034c9cf0",
   "metadata": {},
   "source": [
    "In the NBA Player dataset, there is no **unique ID** provided. Therefore, I have create a custom **unique ID**,  which is a combination of the player's **name**, the **team** they played for, and the **year** they played.\n"
   ]
  },
  {
   "cell_type": "code",
   "execution_count": null,
   "id": "a75da684",
   "metadata": {},
   "outputs": [
    {
     "data": {
      "application/vnd.jupyter.widget-view+json": {
       "model_id": "d303b2f6dd14471489c6ec64b53046f4",
       "version_major": 2,
       "version_minor": 0
      },
      "text/plain": [
       "Calculating Metrics:   0%|          | 0/8 [00:00<?, ?it/s]"
      ]
     },
     "metadata": {},
     "output_type": "display_data"
    },
    {
     "data": {
      "text/plain": [
       "{\n",
       "  \"success\": true,\n",
       "  \"result\": {\n",
       "    \"element_count\": 14573,\n",
       "    \"unexpected_count\": 0,\n",
       "    \"unexpected_percent\": 0.0,\n",
       "    \"partial_unexpected_list\": [],\n",
       "    \"missing_count\": 0,\n",
       "    \"missing_percent\": 0.0,\n",
       "    \"unexpected_percent_total\": 0.0,\n",
       "    \"unexpected_percent_nonmissing\": 0.0\n",
       "  },\n",
       "  \"meta\": {},\n",
       "  \"exception_info\": {\n",
       "    \"raised_exception\": false,\n",
       "    \"exception_traceback\": null,\n",
       "    \"exception_message\": null\n",
       "  }\n",
       "}"
      ]
     },
     "execution_count": 7,
     "metadata": {},
     "output_type": "execute_result"
    }
   ],
   "source": [
    "#GX 1, ID column must UNIQUE\n",
    "validator.expect_column_values_to_be_unique(\"ID\")"
   ]
  },
  {
   "cell_type": "markdown",
   "id": "75cd8c56",
   "metadata": {},
   "source": [
    "    The result above shows that the generated ID successfully meets the expectation **(SUCCESS = TRUE)**\n"
   ]
  },
  {
   "cell_type": "markdown",
   "id": "785b9562",
   "metadata": {},
   "source": [
    "### Great Expectation 2\n",
    "#### Player age must be within the range of **18 to 45 years old** (to be between **min_value** and **max_value**)"
   ]
  },
  {
   "cell_type": "markdown",
   "id": "b921511a",
   "metadata": {},
   "source": [
    "There is no strict age limit for NBA players, however, I will still restrict the age range to **18 to 45 years old**  \n",
    "[source](https://www.nba.com/news/oldest-players-to-play-in-an-nba-game)"
   ]
  },
  {
   "cell_type": "code",
   "execution_count": 8,
   "id": "ee2a9ba6",
   "metadata": {},
   "outputs": [
    {
     "data": {
      "application/vnd.jupyter.widget-view+json": {
       "model_id": "fc1b32833cfd49f5bc89714a3a0a9017",
       "version_major": 2,
       "version_minor": 0
      },
      "text/plain": [
       "Calculating Metrics:   0%|          | 0/8 [00:00<?, ?it/s]"
      ]
     },
     "metadata": {},
     "output_type": "display_data"
    },
    {
     "data": {
      "text/plain": [
       "{\n",
       "  \"success\": true,\n",
       "  \"result\": {\n",
       "    \"element_count\": 14573,\n",
       "    \"unexpected_count\": 0,\n",
       "    \"unexpected_percent\": 0.0,\n",
       "    \"partial_unexpected_list\": [],\n",
       "    \"missing_count\": 0,\n",
       "    \"missing_percent\": 0.0,\n",
       "    \"unexpected_percent_total\": 0.0,\n",
       "    \"unexpected_percent_nonmissing\": 0.0\n",
       "  },\n",
       "  \"meta\": {},\n",
       "  \"exception_info\": {\n",
       "    \"raised_exception\": false,\n",
       "    \"exception_traceback\": null,\n",
       "    \"exception_message\": null\n",
       "  }\n",
       "}"
      ]
     },
     "execution_count": 8,
     "metadata": {},
     "output_type": "execute_result"
    }
   ],
   "source": [
    "# Expect age to be between 18 and 45 years old\n",
    "validator.expect_column_values_to_be_between(\"age\", min_value=18, max_value=45)"
   ]
  },
  {
   "cell_type": "markdown",
   "id": "24894fe0",
   "metadata": {},
   "source": [
    "    The result above indicates that the data meets the expectation **(SUCCESS = TRUE)**"
   ]
  },
  {
   "cell_type": "markdown",
   "id": "e84bea6f",
   "metadata": {},
   "source": [
    "### Great Expectation 3\n",
    "#### Player position must match one of the positions in basketball (to be in set)"
   ]
  },
  {
   "cell_type": "markdown",
   "id": "90f8f946",
   "metadata": {},
   "source": [
    "In basketball, there are 5 positions in the game: [source](https://en.wikipedia.org/wiki/Basketball_positions)\n",
    "\n",
    "1. PG (Point Guard)  \n",
    "2. PF (Power Forward)  \n",
    "3. C (Center)  \n",
    "4. SF (Small Forward)  \n",
    "5. SG (Shooting Guard)"
   ]
  },
  {
   "cell_type": "code",
   "execution_count": 9,
   "id": "38bc235c",
   "metadata": {},
   "outputs": [
    {
     "data": {
      "text/plain": [
       "<function great_expectations.validator.validator.Validator.validate_expectation.<locals>.inst_expectation(*args: 'dict', **kwargs)>"
      ]
     },
     "execution_count": 9,
     "metadata": {},
     "output_type": "execute_result"
    }
   ],
   "source": [
    "main_pose = [\"PG\", \"SG\", \"SF\", \"PF\", \"C\"]\n",
    "# List of valid player positions\n",
    "validator.expect_column_values_to_be_in_set"
   ]
  },
  {
   "cell_type": "markdown",
   "id": "ef8b323e",
   "metadata": {},
   "source": [
    "    The result above shows that the data meets the expectation **(SUCCESS = TRUE)**"
   ]
  },
  {
   "cell_type": "markdown",
   "id": "334f3533",
   "metadata": {},
   "source": [
    "### Great Expectation 4\n",
    "#### The 'tm' (team) column must **not** have any missing values (to not be null)"
   ]
  },
  {
   "cell_type": "markdown",
   "id": "be92baf5",
   "metadata": {},
   "source": [
    "Since the initial objective is to find a new roster, columns such as **team name** and **player name** must **not** have any missing values.\n"
   ]
  },
  {
   "cell_type": "code",
   "execution_count": 10,
   "id": "7b01127d",
   "metadata": {},
   "outputs": [
    {
     "data": {
      "application/vnd.jupyter.widget-view+json": {
       "model_id": "0016e10cef6044dfb65b76b8d7740639",
       "version_major": 2,
       "version_minor": 0
      },
      "text/plain": [
       "Calculating Metrics:   0%|          | 0/6 [00:00<?, ?it/s]"
      ]
     },
     "metadata": {},
     "output_type": "display_data"
    },
    {
     "data": {
      "text/plain": [
       "{\n",
       "  \"success\": true,\n",
       "  \"result\": {\n",
       "    \"element_count\": 14573,\n",
       "    \"unexpected_count\": 0,\n",
       "    \"unexpected_percent\": 0.0,\n",
       "    \"partial_unexpected_list\": []\n",
       "  },\n",
       "  \"meta\": {},\n",
       "  \"exception_info\": {\n",
       "    \"raised_exception\": false,\n",
       "    \"exception_traceback\": null,\n",
       "    \"exception_message\": null\n",
       "  }\n",
       "}"
      ]
     },
     "execution_count": 10,
     "metadata": {},
     "output_type": "execute_result"
    }
   ],
   "source": [
    "# Check that the 'tm' (team) column does not have any missing values\n",
    "validator.expect_column_values_to_not_be_null(\"tm\")"
   ]
  },
  {
   "cell_type": "markdown",
   "id": "499cd811",
   "metadata": {},
   "source": [
    "    The result above shows that the data meets the expectation **(SUCCESS = TRUE)**"
   ]
  },
  {
   "cell_type": "markdown",
   "id": "92acd80b",
   "metadata": {},
   "source": [
    "### Great Expectation 5\n",
    "#### Expectation to validate that the values in the 'g' (games played) column are integers with the correct data type (to be of type)"
   ]
  },
  {
   "cell_type": "markdown",
   "id": "24a879aa",
   "metadata": {},
   "source": [
    "In gameplay, the data type must be **integer**, because a player cannot play half a game, even as a substitute. If the player plays, the **games played** will be recorded as **1** for that match."
   ]
  },
  {
   "cell_type": "code",
   "execution_count": 11,
   "id": "8af4600d",
   "metadata": {},
   "outputs": [
    {
     "data": {
      "application/vnd.jupyter.widget-view+json": {
       "model_id": "6b551f1580c541e2923e8a6adc5fe06f",
       "version_major": 2,
       "version_minor": 0
      },
      "text/plain": [
       "Calculating Metrics:   0%|          | 0/1 [00:00<?, ?it/s]"
      ]
     },
     "metadata": {},
     "output_type": "display_data"
    },
    {
     "data": {
      "text/plain": [
       "{\n",
       "  \"success\": true,\n",
       "  \"result\": {\n",
       "    \"observed_value\": \"int64\"\n",
       "  },\n",
       "  \"meta\": {},\n",
       "  \"exception_info\": {\n",
       "    \"raised_exception\": false,\n",
       "    \"exception_traceback\": null,\n",
       "    \"exception_message\": null\n",
       "  }\n",
       "}"
      ]
     },
     "execution_count": 11,
     "metadata": {},
     "output_type": "execute_result"
    }
   ],
   "source": [
    "# Validate that the data type of the games played column is integer\n",
    "validator.expect_column_values_to_be_of_type(\"g\", \"int64\")"
   ]
  },
  {
   "cell_type": "markdown",
   "id": "37f23a4e",
   "metadata": {},
   "source": [
    "    The result above shows that the data meets the expectation **(SUCCESS = TRUE)**"
   ]
  },
  {
   "cell_type": "markdown",
   "id": "30e468ba",
   "metadata": {},
   "source": [
    "### Great Expectation 6\n",
    "#### Expectation to validate the distribution of statistical values (e.g., minutes played 'mp') (median_to_be_between)"
   ]
  },
  {
   "cell_type": "markdown",
   "id": "041f7441",
   "metadata": {},
   "source": [
    "Ensure that the player performance data in the **mp** (minute_play = minutes played) column is within a reasonable range, so that trend analysis and player trading decisions are not affected by unusual or abnormal data. For starters, the typical range is between **10 to 40 minutes**  \n",
    "[source](https://www.nba.com/stats/players/traditional?dir=D&sort=MIN)"
   ]
  },
  {
   "cell_type": "code",
   "execution_count": 12,
   "id": "e63d72ff",
   "metadata": {},
   "outputs": [
    {
     "data": {
      "application/vnd.jupyter.widget-view+json": {
       "model_id": "efc899cd0fe843b1bdee6872285a1932",
       "version_major": 2,
       "version_minor": 0
      },
      "text/plain": [
       "Calculating Metrics:   0%|          | 0/4 [00:00<?, ?it/s]"
      ]
     },
     "metadata": {},
     "output_type": "display_data"
    },
    {
     "data": {
      "text/plain": [
       "{\n",
       "  \"success\": true,\n",
       "  \"result\": {\n",
       "    \"observed_value\": 18.9\n",
       "  },\n",
       "  \"meta\": {},\n",
       "  \"exception_info\": {\n",
       "    \"raised_exception\": false,\n",
       "    \"exception_traceback\": null,\n",
       "    \"exception_message\": null\n",
       "  }\n",
       "}"
      ]
     },
     "execution_count": 12,
     "metadata": {},
     "output_type": "execute_result"
    }
   ],
   "source": [
    "# Validate the distribution of the 'mp' column using quantile range\n",
    "# The median minutes played must be between 10 and 40\n",
    "\n",
    "validator.expect_column_median_to_be_between(\n",
    "    column=\"mp\",\n",
    "    min_value=10,\n",
    "    max_value=40\n",
    ")"
   ]
  },
  {
   "cell_type": "markdown",
   "id": "2bf7e79e",
   "metadata": {},
   "source": [
    "    The result above shows that the data meets the expectation **(SUCCESS = TRUE)**"
   ]
  },
  {
   "cell_type": "markdown",
   "id": "a44f2194",
   "metadata": {},
   "source": [
    "### Great Expectation 7\n",
    "#### Ensure the chronological order of the year/season is correct to observe player trends per season,  which determines whether they become a trading target or not (to_be_increasing)"
   ]
  },
  {
   "cell_type": "markdown",
   "id": "f297b33c",
   "metadata": {},
   "source": [
    "I need to ensure that no seasons/years are **missing** or **skipped**."
   ]
  },
  {
   "cell_type": "code",
   "execution_count": 13,
   "id": "83a130d3",
   "metadata": {},
   "outputs": [
    {
     "data": {
      "application/vnd.jupyter.widget-view+json": {
       "model_id": "b811025c07d14559b228a7ff4f93e708",
       "version_major": 2,
       "version_minor": 0
      },
      "text/plain": [
       "Calculating Metrics:   0%|          | 0/8 [00:00<?, ?it/s]"
      ]
     },
     "metadata": {},
     "output_type": "display_data"
    },
    {
     "data": {
      "text/plain": [
       "{\n",
       "  \"success\": true,\n",
       "  \"result\": {\n",
       "    \"element_count\": 14573,\n",
       "    \"unexpected_count\": 0,\n",
       "    \"unexpected_percent\": 0.0,\n",
       "    \"partial_unexpected_list\": [],\n",
       "    \"missing_count\": 0,\n",
       "    \"missing_percent\": 0.0,\n",
       "    \"unexpected_percent_total\": 0.0,\n",
       "    \"unexpected_percent_nonmissing\": 0.0\n",
       "  },\n",
       "  \"meta\": {},\n",
       "  \"exception_info\": {\n",
       "    \"raised_exception\": false,\n",
       "    \"exception_traceback\": null,\n",
       "    \"exception_message\": null\n",
       "  }\n",
       "}"
      ]
     },
     "execution_count": 13,
     "metadata": {},
     "output_type": "execute_result"
    }
   ],
   "source": [
    "# Validate chronological order of year/season\n",
    "validator.expect_column_values_to_be_increasing('year_start')"
   ]
  },
  {
   "cell_type": "markdown",
   "id": "a3f2ca9a",
   "metadata": {},
   "source": [
    "    The result above shows that the data meets the expectation **(SUCCESS = TRUE)**"
   ]
  },
  {
   "cell_type": "markdown",
   "id": "e550e151",
   "metadata": {},
   "source": [
    "## Checkpoint"
   ]
  },
  {
   "cell_type": "code",
   "execution_count": 14,
   "id": "aedac6a3",
   "metadata": {},
   "outputs": [
    {
     "data": {
      "application/vnd.jupyter.widget-view+json": {
       "model_id": "0e058df1e6ec4651a4ad464305231680",
       "version_major": 2,
       "version_minor": 0
      },
      "text/plain": [
       "Calculating Metrics: 0it [00:00, ?it/s]"
      ]
     },
     "metadata": {},
     "output_type": "display_data"
    },
    {
     "name": "stdout",
     "output_type": "stream",
     "text": [
      "Success? True\n"
     ]
    }
   ],
   "source": [
    "# Run the Great Expectations checkpoint\n",
    "checkpoint = SimpleCheckpoint(\n",
    "    name=\"checkpoint_nba_player_pref\",\n",
    "    data_context=context,\n",
    "    validations=[\n",
    "        {\n",
    "            \"batch_request\": batch_request,\n",
    "            \"expectation_suite_name\": \"expectation_nba_player_pref\"\n",
    "        }\n",
    "    ],\n",
    ")\n",
    "\n",
    "# Execute the checkpoint\n",
    "checkpoint_result = checkpoint.run()\n",
    "print(f\"Success? {checkpoint_result['success']}\")"
   ]
  }
 ],
 "metadata": {
  "kernelspec": {
   "display_name": "h8_env",
   "language": "python",
   "name": "python3"
  },
  "language_info": {
   "codemirror_mode": {
    "name": "ipython",
    "version": 3
   },
   "file_extension": ".py",
   "mimetype": "text/x-python",
   "name": "python",
   "nbconvert_exporter": "python",
   "pygments_lexer": "ipython3",
   "version": "3.9.23"
  }
 },
 "nbformat": 4,
 "nbformat_minor": 5
}
